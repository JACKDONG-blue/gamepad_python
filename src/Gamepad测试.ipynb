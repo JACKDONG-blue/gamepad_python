{
 "cells": [
  {
   "cell_type": "markdown",
   "id": "68bee234",
   "metadata": {},
   "source": [
    "# 导入依赖"
   ]
  },
  {
   "cell_type": "code",
   "execution_count": 1,
   "id": "fa8a2626",
   "metadata": {},
   "outputs": [],
   "source": [
    "import logging\n",
    "# 自定义库\n",
    "# 用户需要根据自己手柄的情况, 编写gamepad的子类\n",
    "# 在init_sensor函数里面定义都有哪些传感器组件，以及编号\n",
    "from gulikit import Gulikit"
   ]
  },
  {
   "cell_type": "markdown",
   "id": "048ba6e5",
   "metadata": {},
   "source": [
    "## 创建手柄"
   ]
  },
  {
   "cell_type": "code",
   "execution_count": 2,
   "id": "20d50dc5",
   "metadata": {},
   "outputs": [
    {
     "name": "stderr",
     "output_type": "stream",
     "text": [
      "[LEFT_JOYSTICK_X][INFO]: 数值更新: 128\n",
      "[LEFT_JOYSTICK_Y][INFO]: 数值更新: 128\n",
      "[RIGHT_JOYSTICK_X][INFO]: 数值更新: 128\n",
      "[RIGHT_JOYSTICK_Y][INFO]: 数值更新: 128\n"
     ]
    }
   ],
   "source": [
    "# 创建手柄\n",
    "# 可以设置不同的日志模式\n",
    "pad = Gulikit(logging_level=logging.INFO)\n",
    "# pad = Gulikit(logging_level=logging.WARN)"
   ]
  },
  {
   "cell_type": "markdown",
   "id": "3caf5ac1",
   "metadata": {},
   "source": [
    "普通按键事件绑定"
   ]
  },
  {
   "cell_type": "code",
   "execution_count": 3,
   "id": "7e2da817",
   "metadata": {},
   "outputs": [],
   "source": [
    "# 绑定回调函数\n",
    "def a_click():\n",
    "    print(\"按键A按下\")\n",
    "\n",
    "def a_release():\n",
    "    print(\"按键A释放\")\n",
    "    \n",
    "def a_change():\n",
    "    print(\"按键A数值变动\")\n",
    "\n",
    "pad.btn_a.on_click = a_click\n",
    "pad.btn_a.on_release = a_release\n",
    "pad.btn_a.on_change = a_change"
   ]
  },
  {
   "cell_type": "markdown",
   "id": "a3201d89",
   "metadata": {},
   "source": [
    "十字按键事件绑定\n",
    "> 注: 十字按键的四个元素， 都可以当普通按键来使用。"
   ]
  },
  {
   "cell_type": "code",
   "execution_count": 4,
   "id": "5ef6e8a7",
   "metadata": {},
   "outputs": [],
   "source": [
    "def cross_btn_update():\n",
    "    position = pad.btn_cross.get_position()\n",
    "    print(f\"十字按键更新, 坐标: {position}\")\n",
    "\n",
    "def cross_btn_release():\n",
    "    print(\"十字按键释放\")\n",
    "\n",
    "pad.btn_cross.on_change = cross_btn_update\n",
    "pad.btn_cross.on_release = cross_btn_release"
   ]
  },
  {
   "cell_type": "markdown",
   "id": "fe8d4850",
   "metadata": {},
   "source": [
    "遥杆按键事件绑定"
   ]
  },
  {
   "cell_type": "code",
   "execution_count": 5,
   "id": "cc3afd7e",
   "metadata": {},
   "outputs": [],
   "source": [
    "def left_joystick_change():\n",
    "    position = pad.left_joystick.get_position()\n",
    "    print(f\"遥杆位置更新: {position}\")\n",
    "\n",
    "pad.left_joystick.on_change = left_joystick_change"
   ]
  },
  {
   "cell_type": "code",
   "execution_count": 6,
   "id": "7be59f5f",
   "metadata": {},
   "outputs": [
    {
     "name": "stdout",
     "output_type": "stream",
     "text": [
      "...\n"
     ]
    }
   ],
   "source": [
    "# 手动执行事件监听器\n",
    "pad.start_event_listener_thread()"
   ]
  },
  {
   "cell_type": "code",
   "execution_count": 7,
   "id": "3d98069e",
   "metadata": {},
   "outputs": [
    {
     "name": "stdout",
     "output_type": "stream",
     "text": [
      "self.stop_event.set() = True\n"
     ]
    }
   ],
   "source": [
    "# # 终止事件监听器\n",
    "pad.stop_event_listener_thread()"
   ]
  },
  {
   "cell_type": "code",
   "execution_count": 8,
   "id": "a7e05a9a",
   "metadata": {},
   "outputs": [
    {
     "name": "stdout",
     "output_type": "stream",
     "text": [
      "...\n",
      "退出\n"
     ]
    }
   ],
   "source": [
    "a = 1"
   ]
  }
 ],
 "metadata": {
  "kernelspec": {
   "display_name": "Python 3 (ipykernel)",
   "language": "python",
   "name": "python3"
  },
  "language_info": {
   "codemirror_mode": {
    "name": "ipython",
    "version": 3
   },
   "file_extension": ".py",
   "mimetype": "text/x-python",
   "name": "python",
   "nbconvert_exporter": "python",
   "pygments_lexer": "ipython3",
   "version": "3.8.10"
  }
 },
 "nbformat": 4,
 "nbformat_minor": 5
}
