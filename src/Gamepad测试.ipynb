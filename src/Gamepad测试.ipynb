{
 "cells": [
  {
   "cell_type": "code",
   "execution_count": 1,
   "id": "fa8a2626",
   "metadata": {},
   "outputs": [],
   "source": [
    "from gulikit import Gulikit"
   ]
  },
  {
   "cell_type": "code",
   "execution_count": 2,
   "id": "20d50dc5",
   "metadata": {},
   "outputs": [],
   "source": [
    "pad = Gulikit()"
   ]
  },
  {
   "cell_type": "markdown",
   "id": "cef33a0d",
   "metadata": {},
   "source": [
    "普通按键事件绑定"
   ]
  },
  {
   "cell_type": "code",
   "execution_count": 3,
   "id": "ff8fa535",
   "metadata": {},
   "outputs": [],
   "source": [
    "# 绑定回调函数\n",
    "def a_click():\n",
    "    print(\"按键A按下\")\n",
    "\n",
    "def a_release():\n",
    "    print(\"按键A释放\")\n",
    "    \n",
    "def a_change():\n",
    "    print(\"按键A数值变动\")\n",
    "\n",
    "pad.btn_a.on_click = a_click\n",
    "pad.btn_a.on_release = a_release\n",
    "pad.btn_a.on_change = a_change"
   ]
  },
  {
   "cell_type": "markdown",
   "id": "be763785",
   "metadata": {},
   "source": [
    "十字按键事件绑定\n",
    "> 注: 十字按键的四个元素， 都可以当普通按键来使用。"
   ]
  },
  {
   "cell_type": "code",
   "execution_count": 4,
   "id": "f650dd87",
   "metadata": {},
   "outputs": [],
   "source": [
    "def cross_btn_update():\n",
    "    position = pad.btn_cross.get_position()\n",
    "    print(f\"十字按键更新, 坐标: {position}\")\n",
    "\n",
    "def cross_btn_release():\n",
    "    print(\"十字按键释放\")\n",
    "\n",
    "pad.btn_cross.on_change = cross_btn_update\n",
    "pad.btn_cross.on_release = cross_btn_release"
   ]
  },
  {
   "cell_type": "code",
   "execution_count": null,
   "id": "a1409038",
   "metadata": {},
   "outputs": [
    {
     "name": "stderr",
     "output_type": "stream",
     "text": [
      "[Gamepad][INFO]: 事件类型: Absolute | 事件代码: ABS_HAT0X | 事件状态: 1\n",
      "[Gamepad][INFO]: 响应传感器: LEFT\n",
      "[LEFT][INFO]: 按键释放, new_value=0\n",
      "[Gamepad][INFO]: 响应传感器: RIGHT\n",
      "[RIGHT][INFO]: 按键按下, new_value=1\n",
      "[CROSS_BUTTON][INFO]: 数值没有变\n",
      "[Gamepad][INFO]: 事件类型: Sync | 事件代码: SYN_REPORT | 事件状态: 0\n",
      "[Gamepad][INFO]: 未知事件代码: SYN_REPORT\n",
      "[Gamepad][INFO]: 事件类型: Absolute | 事件代码: ABS_HAT0X | 事件状态: 0\n",
      "[Gamepad][INFO]: 响应传感器: LEFT\n",
      "[LEFT][INFO]: 按键释放, new_value=0\n",
      "[CROSS_BUTTON][INFO]: 数值没有变\n",
      "[Gamepad][INFO]: 响应传感器: RIGHT\n",
      "[RIGHT][INFO]: 按键释放, new_value=0\n",
      "[CROSS_BUTTON][INFO]: 数值没有变\n",
      "[Gamepad][INFO]: 事件类型: Sync | 事件代码: SYN_REPORT | 事件状态: 0\n",
      "[Gamepad][INFO]: 未知事件代码: SYN_REPORT\n",
      "[Gamepad][INFO]: 事件类型: Absolute | 事件代码: ABS_HAT0X | 事件状态: 1\n",
      "[Gamepad][INFO]: 响应传感器: LEFT\n",
      "[LEFT][INFO]: 按键释放, new_value=0\n",
      "[Gamepad][INFO]: 响应传感器: RIGHT\n",
      "[RIGHT][INFO]: 按键按下, new_value=1\n",
      "[CROSS_BUTTON][INFO]: 数值没有变\n",
      "[Gamepad][INFO]: 事件类型: Sync | 事件代码: SYN_REPORT | 事件状态: 0\n",
      "[Gamepad][INFO]: 未知事件代码: SYN_REPORT\n",
      "[Gamepad][INFO]: 事件类型: Absolute | 事件代码: ABS_HAT0X | 事件状态: 0\n",
      "[Gamepad][INFO]: 响应传感器: LEFT\n",
      "[LEFT][INFO]: 按键释放, new_value=0\n",
      "[CROSS_BUTTON][INFO]: 数值没有变\n",
      "[Gamepad][INFO]: 响应传感器: RIGHT\n",
      "[RIGHT][INFO]: 按键释放, new_value=0\n",
      "[CROSS_BUTTON][INFO]: 数值没有变\n",
      "[Gamepad][INFO]: 事件类型: Sync | 事件代码: SYN_REPORT | 事件状态: 0\n",
      "[Gamepad][INFO]: 未知事件代码: SYN_REPORT\n"
     ]
    }
   ],
   "source": [
    "# 手动执行事件监听器\n",
    "pad.event_listener()"
   ]
  },
  {
   "cell_type": "code",
   "execution_count": null,
   "id": "3a9e08a7",
   "metadata": {},
   "outputs": [],
   "source": []
  }
 ],
 "metadata": {
  "kernelspec": {
   "display_name": "Python 3 (ipykernel)",
   "language": "python",
   "name": "python3"
  },
  "language_info": {
   "codemirror_mode": {
    "name": "ipython",
    "version": 3
   },
   "file_extension": ".py",
   "mimetype": "text/x-python",
   "name": "python",
   "nbconvert_exporter": "python",
   "pygments_lexer": "ipython3",
   "version": "3.8.10"
  }
 },
 "nbformat": 4,
 "nbformat_minor": 5
}
