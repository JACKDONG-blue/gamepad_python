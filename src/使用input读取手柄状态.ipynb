{
 "cells": [
  {
   "cell_type": "markdown",
   "id": "c1a4e593",
   "metadata": {},
   "source": [
    "## 查看设备列表"
   ]
  },
  {
   "cell_type": "code",
   "execution_count": 1,
   "id": "27340c85",
   "metadata": {},
   "outputs": [
    {
     "name": "stdout",
     "output_type": "stream",
     "text": [
      "SINO WEALTH Gaming KB\n",
      "USB OPTICAL MOUSE\n",
      "SINO WEALTH Gaming KB  Mouse\n",
      "ZhiXu GuliKit Controller A\n",
      "SINO WEALTH Gaming KB  System Control\n"
     ]
    }
   ],
   "source": [
    "import time\n",
    "from inputs import devices\n",
    "\n",
    "for device in devices:\n",
    "    print(device)"
   ]
  },
  {
   "cell_type": "markdown",
   "id": "1a7a3f96",
   "metadata": {},
   "source": [
    "其中`ZhiXu GuliKit Controller D`是谷粒金刚2 Pro的设备名称."
   ]
  },
  {
   "cell_type": "code",
   "execution_count": 2,
   "id": "9d3fb4c9",
   "metadata": {},
   "outputs": [
    {
     "name": "stdout",
     "output_type": "stream",
     "text": [
      "ZhiXu GuliKit Controller A\n"
     ]
    }
   ],
   "source": [
    "# 也可以只遍历游戏手柄设备\n",
    "for device in devices.gamepads:\n",
    "    print(device)"
   ]
  },
  {
   "cell_type": "code",
   "execution_count": null,
   "id": "3588b248",
   "metadata": {
    "scrolled": false
   },
   "outputs": [
    {
     "name": "stdout",
     "output_type": "stream",
     "text": [
      "设备名: ZhiXu GuliKit Controller A 触发时间: 1644500056.228685\n",
      "事件类型: Absolute | 事件代码: ABS_Z | 事件状态: 47\n",
      "--------------------------------------------------\n",
      "设备名: ZhiXu GuliKit Controller A 触发时间: 1644500056.228685\n",
      "事件类型: Sync | 事件代码: SYN_REPORT | 事件状态: 0\n",
      "--------------------------------------------------\n",
      "设备名: ZhiXu GuliKit Controller A 触发时间: 1644500056.396682\n",
      "事件类型: Absolute | 事件代码: ABS_Z | 事件状态: 15\n",
      "--------------------------------------------------\n",
      "设备名: ZhiXu GuliKit Controller A 触发时间: 1644500056.396682\n",
      "事件类型: Sync | 事件代码: SYN_REPORT | 事件状态: 0\n",
      "--------------------------------------------------\n",
      "设备名: ZhiXu GuliKit Controller A 触发时间: 1644500060.29658\n",
      "事件类型: Absolute | 事件代码: ABS_RZ | 事件状态: 1\n",
      "--------------------------------------------------\n",
      "设备名: ZhiXu GuliKit Controller A 触发时间: 1644500060.29658\n",
      "事件类型: Sync | 事件代码: SYN_REPORT | 事件状态: 0\n",
      "--------------------------------------------------\n",
      "设备名: ZhiXu GuliKit Controller A 触发时间: 1644500060.468575\n",
      "事件类型: Absolute | 事件代码: ABS_RZ | 事件状态: 0\n",
      "--------------------------------------------------\n",
      "设备名: ZhiXu GuliKit Controller A 触发时间: 1644500060.468575\n",
      "事件类型: Sync | 事件代码: SYN_REPORT | 事件状态: 0\n",
      "--------------------------------------------------\n",
      "设备名: ZhiXu GuliKit Controller A 触发时间: 1644500063.608495\n",
      "事件类型: Absolute | 事件代码: ABS_RZ | 事件状态: 4\n",
      "--------------------------------------------------\n",
      "设备名: ZhiXu GuliKit Controller A 触发时间: 1644500063.608495\n",
      "事件类型: Sync | 事件代码: SYN_REPORT | 事件状态: 0\n",
      "--------------------------------------------------\n",
      "设备名: ZhiXu GuliKit Controller A 触发时间: 1644500063.788489\n",
      "事件类型: Absolute | 事件代码: ABS_RZ | 事件状态: 0\n",
      "--------------------------------------------------\n",
      "设备名: ZhiXu GuliKit Controller A 触发时间: 1644500063.788489\n",
      "事件类型: Sync | 事件代码: SYN_REPORT | 事件状态: 0\n",
      "--------------------------------------------------\n",
      "设备名: ZhiXu GuliKit Controller A 触发时间: 1644500065.276452\n",
      "事件类型: Absolute | 事件代码: ABS_RZ | 事件状态: 4\n",
      "--------------------------------------------------\n",
      "设备名: ZhiXu GuliKit Controller A 触发时间: 1644500065.276452\n",
      "事件类型: Sync | 事件代码: SYN_REPORT | 事件状态: 0\n",
      "--------------------------------------------------\n",
      "设备名: ZhiXu GuliKit Controller A 触发时间: 1644500065.496491\n",
      "事件类型: Absolute | 事件代码: ABS_RZ | 事件状态: 0\n",
      "--------------------------------------------------\n",
      "设备名: ZhiXu GuliKit Controller A 触发时间: 1644500065.496491\n",
      "事件类型: Sync | 事件代码: SYN_REPORT | 事件状态: 0\n",
      "--------------------------------------------------\n",
      "设备名: ZhiXu GuliKit Controller A 触发时间: 1644500067.288401\n",
      "事件类型: Absolute | 事件代码: ABS_RZ | 事件状态: 1\n",
      "--------------------------------------------------\n",
      "设备名: ZhiXu GuliKit Controller A 触发时间: 1644500067.288401\n",
      "事件类型: Sync | 事件代码: SYN_REPORT | 事件状态: 0\n",
      "--------------------------------------------------\n",
      "设备名: ZhiXu GuliKit Controller A 触发时间: 1644500067.528343\n",
      "事件类型: Absolute | 事件代码: ABS_RZ | 事件状态: 0\n",
      "--------------------------------------------------\n",
      "设备名: ZhiXu GuliKit Controller A 触发时间: 1644500067.528343\n",
      "事件类型: Sync | 事件代码: SYN_REPORT | 事件状态: 0\n",
      "--------------------------------------------------\n",
      "设备名: ZhiXu GuliKit Controller A 触发时间: 1644500069.788337\n",
      "事件类型: Absolute | 事件代码: ABS_RZ | 事件状态: 1\n",
      "--------------------------------------------------\n",
      "设备名: ZhiXu GuliKit Controller A 触发时间: 1644500069.788337\n",
      "事件类型: Sync | 事件代码: SYN_REPORT | 事件状态: 0\n",
      "--------------------------------------------------\n",
      "设备名: ZhiXu GuliKit Controller A 触发时间: 1644500069.96033\n",
      "事件类型: Absolute | 事件代码: ABS_RZ | 事件状态: 0\n",
      "--------------------------------------------------\n",
      "设备名: ZhiXu GuliKit Controller A 触发时间: 1644500069.96033\n",
      "事件类型: Sync | 事件代码: SYN_REPORT | 事件状态: 0\n",
      "--------------------------------------------------\n",
      "设备名: ZhiXu GuliKit Controller A 触发时间: 1644500073.520242\n",
      "事件类型: Absolute | 事件代码: ABS_RZ | 事件状态: 4\n",
      "--------------------------------------------------\n",
      "设备名: ZhiXu GuliKit Controller A 触发时间: 1644500073.520242\n",
      "事件类型: Sync | 事件代码: SYN_REPORT | 事件状态: 0\n",
      "--------------------------------------------------\n",
      "设备名: ZhiXu GuliKit Controller A 触发时间: 1644500073.728209\n",
      "事件类型: Absolute | 事件代码: ABS_RZ | 事件状态: 0\n",
      "--------------------------------------------------\n",
      "设备名: ZhiXu GuliKit Controller A 触发时间: 1644500073.728209\n",
      "事件类型: Sync | 事件代码: SYN_REPORT | 事件状态: 0\n",
      "--------------------------------------------------\n",
      "设备名: ZhiXu GuliKit Controller A 触发时间: 1644500078.048124\n",
      "事件类型: Absolute | 事件代码: ABS_Z | 事件状态: 79\n",
      "--------------------------------------------------\n",
      "设备名: ZhiXu GuliKit Controller A 触发时间: 1644500078.048124\n",
      "事件类型: Sync | 事件代码: SYN_REPORT | 事件状态: 0\n",
      "--------------------------------------------------\n",
      "设备名: ZhiXu GuliKit Controller A 触发时间: 1644500078.260084\n",
      "事件类型: Absolute | 事件代码: ABS_Z | 事件状态: 15\n",
      "--------------------------------------------------\n",
      "设备名: ZhiXu GuliKit Controller A 触发时间: 1644500078.260084\n",
      "事件类型: Sync | 事件代码: SYN_REPORT | 事件状态: 0\n",
      "--------------------------------------------------\n"
     ]
    }
   ],
   "source": [
    "from inputs import get_gamepad\n",
    "# 打印\n",
    "while True:\n",
    "    # 获取游戏手柄事件(只获取跟手柄相关的事件)\n",
    "    events = get_gamepad()\n",
    "    # 逐一打印事件信息\n",
    "    for event in events:\n",
    "        print(f\"设备名: {event.device} 触发时间: {event.timestamp}\")\n",
    "        # 数据类型 |字符串|字符串|整数|\n",
    "        print(f\"事件类型: {event.ev_type} | 事件代码: {event.code} | 事件状态: {event.state}\")  # 字符串\n",
    "    print(\"-\"*50)"
   ]
  },
  {
   "cell_type": "code",
   "execution_count": null,
   "id": "7d867c97",
   "metadata": {},
   "outputs": [],
   "source": []
  }
 ],
 "metadata": {
  "kernelspec": {
   "display_name": "Python 3 (ipykernel)",
   "language": "python",
   "name": "python3"
  },
  "language_info": {
   "codemirror_mode": {
    "name": "ipython",
    "version": 3
   },
   "file_extension": ".py",
   "mimetype": "text/x-python",
   "name": "python",
   "nbconvert_exporter": "python",
   "pygments_lexer": "ipython3",
   "version": "3.8.10"
  }
 },
 "nbformat": 4,
 "nbformat_minor": 5
}
